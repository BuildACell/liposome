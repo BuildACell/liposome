{
 "cells": [
  {
   "cell_type": "markdown",
   "metadata": {},
   "source": [
    "# Vesicle Protocol: Mixing it up\n",
    "Introduction\n",
    "Based on our conversation we had in the Build-A-Cell talk we, Bruce and I, decided to mix it up. We re-did the lipid prep protocol to include vacuum and desiccator, still with the added precaution not to use any plastic (everything was done by weights). The following protocol is a mixture of Vincent's Protocol from the Wiki page and Kate's Protocol. "
   ]
  },
  {
   "cell_type": "markdown",
   "metadata": {},
   "source": [
    "## Liposome-oil emulsion\n",
    "1.\tMix mineral oil by gentle inversion before use (Mineral oil can dissolve lipid better than paraffin)\n",
    "2.\tPlace 0.5 mL of mineral oil in the vials\n",
    "3.\tVortex for 10 mins\n",
    "4.\tIncubate vials at 50C for 10mins\n",
    "5.\tRepeat 50C incubation and vortexing until the lipid is completely dissolved.\n",
    "\n",
    "*After 3 rounds of this I put the vials to incubate at 60C for 3.5 hours then vortexed it, the mixture looks a little different than before. The consistency looked soft.*\n",
    "\n",
    "*(3/28/2018: What helps in later trials was leaving it in heated @ 60C sonicator bath for 1 hr.)*"
   ]
  },
  {
   "cell_type": "markdown",
   "metadata": {},
   "source": [
    "## Making liposomes\n",
    "6.\tPlace 20 μL of centrifuge buffer (PBS + 300 mM sucrose, pH 8) into a labeled eppendorf tube\n",
    "7.\tAdd 2 μL of reaction into 300 μL phospholipid solution, vortex for 30 s to create an emulsion\n",
    "8.\tAdd the emulsion on top of the 20 μL centrifuge buffer, wait for the interface to stabilize and flatten between the emulsion and buffer\n",
    "9.\tCentrifuge at 11000 RPM for 30 s (tabletop centrifuge works well)\n",
    "10.\tCarefully remove the mineral oil, take 10 μL of the centrifuge buffer (where the vesicles have been formed)\n",
    "11.\tAdd 10 μL of solution (where vesicles hopefully \"live\") to 10 μL of final buffer (50 mM HEPES + 300 mM sucrose, pH 8), careful not to touch the sides of tube\n",
    "12.\tMix gently, pipetting up and down with a new tip"
   ]
  },
  {
   "cell_type": "markdown",
   "metadata": {},
   "source": [
    "## Microscopy \n",
    "13.\tUse Frameseal to make a small chamber on a coverslip\n",
    "14.\tAdd 10 μL of the final solution to the inside chamber and seal with cover slip\n",
    "15.\tObserve on microscope + Hope and pray ♥"
   ]
  },
  {
   "cell_type": "markdown",
   "metadata": {},
   "source": [
    "Murray Lab (Feb. 2018)\n",
    "Zoila Jurado and Bruce Wittmann\n",
    "Thanks to Malin Jonsson, Kate Adamala, and Vincent Noireaux. \n"
   ]
  }
 ],
 "metadata": {
  "kernelspec": {
   "display_name": "Python 3",
   "language": "python",
   "name": "python3"
  },
  "language_info": {
   "codemirror_mode": {
    "name": "ipython",
    "version": 3
   },
   "file_extension": ".py",
   "mimetype": "text/x-python",
   "name": "python",
   "nbconvert_exporter": "python",
   "pygments_lexer": "ipython3",
   "version": "3.6.2"
  }
 },
 "nbformat": 4,
 "nbformat_minor": 2
}
